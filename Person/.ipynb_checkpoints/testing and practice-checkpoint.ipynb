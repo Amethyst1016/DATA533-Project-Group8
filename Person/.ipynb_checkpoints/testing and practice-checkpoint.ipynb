{
 "cells": [
  {
   "cell_type": "code",
   "execution_count": null,
   "id": "c5a5a695",
   "metadata": {},
   "outputs": [],
   "source": [
    "import administrator\n",
    "\n",
    "user1 = User('madison13g', 'password1')\n",
    "user2 = User('amethyst1016', 'password2')\n",
    "print(user1.user)\n",
    "user1.displayUser()\n",
    "user2.displayUser()\n",
    "admin1 = Admin('Dan', 'password3', 'A1')\n",
    "admin1.displayUser()\n",
    "admin1.displayCount()\n",
    "del user1\n",
    "user1.displayUser()"
   ]
  }
 ],
 "metadata": {
  "kernelspec": {
   "display_name": "Python 3 (ipykernel)",
   "language": "python",
   "name": "python3"
  },
  "language_info": {
   "codemirror_mode": {
    "name": "ipython",
    "version": 3
   },
   "file_extension": ".py",
   "mimetype": "text/x-python",
   "name": "python",
   "nbconvert_exporter": "python",
   "pygments_lexer": "ipython3",
   "version": "3.9.12"
  }
 },
 "nbformat": 4,
 "nbformat_minor": 5
}
