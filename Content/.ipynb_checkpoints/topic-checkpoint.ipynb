{
 "cells": [
  {
   "cell_type": "code",
   "execution_count": 1,
   "id": "a35fc777",
   "metadata": {},
   "outputs": [],
   "source": [
    "class Topic:\n",
    "    topics = [] # store all topics\n",
    "    def __init__(self, tname, user):\n",
    "        self.tname = tname\n",
    "        self.tag=\"\"\n",
    "        if tname not in self.topics:\n",
    "            self.topics.append(self)\n",
    "            self.user = user\n",
    "    def addtag(self, tag):\n",
    "        self.tag = tag\n",
    "    def related(self):\n",
    "        related = []\n",
    "        if self.tag:\n",
    "            for i in self.topics:\n",
    "                if i.tag == self.tag:\n",
    "                    related.append(i.tname)\n",
    "            if len(related) == 0:\n",
    "                return \"Currently no related topics.\"\n",
    "            else: return related\n",
    "        else:\n",
    "            return \"This topic haven't been taged.\""
   ]
  },
  {
   "cell_type": "code",
   "execution_count": 2,
   "id": "948fd9bd",
   "metadata": {},
   "outputs": [
    {
     "data": {
      "text/plain": [
       "['DATA533', 'DATA533 project']"
      ]
     },
     "execution_count": 2,
     "metadata": {},
     "output_type": "execute_result"
    }
   ],
   "source": [
    "tp = Topic('DATA533', 'ame')\n",
    "tp1 = Topic('DATA533 project', 'ame')\n",
    "tp.addtag('DATA')\n",
    "tp1.addtag('DATA')\n",
    "tp.related()"
   ]
  },
  {
   "cell_type": "code",
   "execution_count": null,
   "id": "212bf2b2",
   "metadata": {},
   "outputs": [],
   "source": []
  }
 ],
 "metadata": {
  "kernelspec": {
   "display_name": "Python 3 (ipykernel)",
   "language": "python",
   "name": "python3"
  },
  "language_info": {
   "codemirror_mode": {
    "name": "ipython",
    "version": 3
   },
   "file_extension": ".py",
   "mimetype": "text/x-python",
   "name": "python",
   "nbconvert_exporter": "python",
   "pygments_lexer": "ipython3",
   "version": "3.9.12"
  }
 },
 "nbformat": 4,
 "nbformat_minor": 5
}
