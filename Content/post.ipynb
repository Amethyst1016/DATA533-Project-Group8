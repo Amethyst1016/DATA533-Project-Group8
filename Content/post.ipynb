{
 "cells": [
  {
   "cell_type": "code",
   "execution_count": 2,
   "id": "e00a46a1",
   "metadata": {},
   "outputs": [
    {
     "name": "stdout",
     "output_type": "stream",
     "text": [
      "Topic: DATA533\n",
      "project due next Mon\n",
      "-----\n"
     ]
    }
   ],
   "source": [
    "from topic import Topic\n",
    "\n",
    "class Post(Topic):\n",
    "    def __init__(self, topic, detail, user):\n",
    "        Topic.__init__(self, topic, user='')\n",
    "        self.detail = detail\n",
    "        self.user = user\n",
    "        self.comments = []\n",
    "        self.like = 0\n",
    "        #user??\n",
    "    def add_comment(self, comment):\n",
    "        self.comments.append(comment)\n",
    "    def like(self):\n",
    "        self.like += 1\n",
    "    def check(self):\n",
    "        return f'This post has {self.like} like and {len(self.comment)} comments.'\n",
    "    def show(self):\n",
    "        print(f'Topic: {self.tname}')\n",
    "        print(self.detail)\n",
    "        print('-----')\n",
    "        if self.comments:\n",
    "            print('Comments: ')\n",
    "            for i in self.comments:\n",
    "                print(i)\n",
    "    \n",
    "pt = Post('DATA533', 'project due next Mon', 'ame')\n",
    "pt.show()"
   ]
  },
  {
   "cell_type": "code",
   "execution_count": null,
   "id": "df3481b1",
   "metadata": {},
   "outputs": [],
   "source": []
  }
 ],
 "metadata": {
  "kernelspec": {
   "display_name": "Python 3 (ipykernel)",
   "language": "python",
   "name": "python3"
  },
  "language_info": {
   "codemirror_mode": {
    "name": "ipython",
    "version": 3
   },
   "file_extension": ".py",
   "mimetype": "text/x-python",
   "name": "python",
   "nbconvert_exporter": "python",
   "pygments_lexer": "ipython3",
   "version": "3.9.12"
  }
 },
 "nbformat": 4,
 "nbformat_minor": 5
}
